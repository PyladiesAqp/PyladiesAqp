{
  "nbformat": 4,
  "nbformat_minor": 0,
  "metadata": {
    "anaconda-cloud": {},
    "kernelspec": {
      "display_name": "Python 3",
      "language": "python",
      "name": "python3"
    },
    "language_info": {
      "codemirror_mode": {
        "name": "ipython",
        "version": 3
      },
      "file_extension": ".py",
      "mimetype": "text/x-python",
      "name": "python",
      "nbconvert_exporter": "python",
      "pygments_lexer": "ipython3",
      "version": "3.8.3"
    },
    "colab": {
      "name": "Introduccion-a-la-Programacion-en-Python.ipynb",
      "provenance": [],
      "collapsed_sections": [
        "yVkR94rY1kj0",
        "7bgmyOPD1kj5",
        "WPFr3i5l1kj7",
        "bnErLGFl1kkB",
        "kwjiRERG1kkH"
      ]
    }
  },
  "cells": [
    {
      "cell_type": "markdown",
      "metadata": {
        "id": "qfJZuafg1kjk"
      },
      "source": [
        "<h2 align=\"center\">Introducción de Programación Con Python</h2>\n"
      ]
    },
    {
      "cell_type": "markdown",
      "metadata": {
        "id": "SR1QxPe61kjr"
      },
      "source": [
        "## Archivos de programa en Python"
      ]
    },
    {
      "cell_type": "markdown",
      "metadata": {
        "id": "PuVw2K9P1kjr"
      },
      "source": [
        "* El código Python es usualmente almacenado en archivos de texto con extensión \"`.py`\" (un \"script\"):\n",
        "\n",
        "        miprograma.py\n",
        "\n",
        "* Se asume que cada línea de un archivo de programa en Python es una sentencia Python, o parte de una sentencia. \n",
        "\n",
        "    * La única excepción son las líneas de comentarios, que comienzan con el caracter `#` (opcionalmente precedida por un número arbitrario de caracteres de espacio en blanco, es decir, tabs y espacios. Las líneas de comentarios son usualmente ignoradas por el intérprete Python.\n",
        "\n",
        "\n",
        "* Para ejecutar nuestro programa Python desde la línea de comando usamos:\n",
        "\n",
        "        $ python miprograma.py\n",
        "\n"
      ]
    },
    {
      "cell_type": "markdown",
      "metadata": {
        "id": "THFI9YAN1kjt"
      },
      "source": [
        "## Jupyter Notebooks"
      ]
    },
    {
      "cell_type": "markdown",
      "metadata": {
        "id": "Gr551RIn1kjt"
      },
      "source": [
        "Este archivo - un Jupyter/IPython notebook -  no sigue el patrón estándar de código Python en un archivo de texto. En su lugar, un notebook IPython es almacenado como un archivo en el formato [JSON](http://es.wikipedia.org/wiki/JSON). La ventaja es que podemos mezclar texto formateado, código Python, y código de salida. Esto requiere estar ejecutando un servidor de notebook IPython, y por eso este tipo de archivo no es un programa Python independiente como se describió antes. Aparte de eso, no hay diferencia entre el código Python en un archivo de programa o en un notebook IPython."
      ]
    },
    {
      "cell_type": "markdown",
      "metadata": {
        "id": "ySjsV9Qo1kju"
      },
      "source": [
        "## Variables y tipos"
      ]
    },
    {
      "cell_type": "markdown",
      "metadata": {
        "id": "mUpXMt7u1kju"
      },
      "source": [
        "### Nombres de símbolos"
      ]
    },
    {
      "cell_type": "markdown",
      "metadata": {
        "id": "UyilxpiF1kjv"
      },
      "source": [
        " Los nombres de las variables en Python pueden contener los caracteres `a-z`, `A-Z`, `0-9` y algunos caracteres especiales como `_`. Los nombres de variables normales deben comenzar con una letra. \n",
        "\n",
        "Por convención, los nombres de las variables comienzan con letra minúscula, mientras que los nombres de las clases comienzan con una letra mayúscula. \n",
        "\n",
        "Además, existen algunos palabras claves Python que no pueden ser usados como nombres de variables. Éstas son:\n",
        "\n",
        "    and, as, assert, break, class, continue, def, del, elif, else, except, \n",
        "    exec, finally, for, from, global, if, import, in, is, lambda, not, or,\n",
        "    pass, print, raise, return, try, while, with, yield\n",
        "\n",
        "Nota: Atención con la palabra `lambda`, que podría fácilmente ser un nombre de variable natural en un programa científico. Sin embargo, como es una palabra clave, no puede ser usado como nombre de una variable."
      ]
    },
    {
      "cell_type": "markdown",
      "metadata": {
        "id": "WOLlKRAM1kjv"
      },
      "source": [
        "### Asignaciones"
      ]
    },
    {
      "cell_type": "markdown",
      "metadata": {
        "id": "2XxkzNER1kjw"
      },
      "source": [
        "El operador para asignar valores en Python es el signo igual (`=`). Python es un lenguage de _escritura dinámica_, de modo que no necesitamos especificar el tipo de una variable cuando la creamos.\n",
        "\n",
        "Al asignar un valor a una variable nueva se crea esa variable:"
      ]
    },
    {
      "cell_type": "code",
      "metadata": {
        "id": "LmyKOMkE1kjw"
      },
      "source": [
        "# asignaciones de variables\n",
        "# x=1000 comentaria\n",
        "x = 1.0\n",
        "mi_variable = 12.2\n",
        "y = 2 + 3\n",
        "z = \"hola mundo\"\n"
      ],
      "execution_count": null,
      "outputs": []
    },
    {
      "cell_type": "code",
      "metadata": {
        "id": "a2Juy2eo1kjw",
        "colab": {
          "base_uri": "https://localhost:8080/"
        },
        "outputId": "fa61c53c-e5db-4d4f-802a-b6c274d3043e"
      },
      "source": [
        "y"
      ],
      "execution_count": null,
      "outputs": [
        {
          "output_type": "execute_result",
          "data": {
            "text/plain": [
              "5"
            ]
          },
          "metadata": {
            "tags": []
          },
          "execution_count": 85
        }
      ]
    },
    {
      "cell_type": "markdown",
      "metadata": {
        "id": "DSTAbnFA1kjx"
      },
      "source": [
        "Aunque no se especifique explícitamente, cada variable sí tiene un tipo asociada a ella. El tipo es extraido del valor que le fue asignado."
      ]
    },
    {
      "cell_type": "code",
      "metadata": {
        "id": "-x5i69Eg1kjy",
        "colab": {
          "base_uri": "https://localhost:8080/"
        },
        "outputId": "de82623c-2ce7-4d42-a662-376cc0c4b4ef"
      },
      "source": [
        "type(x)\n",
        "type(y)\n",
        "type(z)\n",
        "\n",
        "print(\"el tipo de x es: \" + str(type(x)))\n",
        "print(\"el tipo de y es: \" + str(type(y)))\n",
        "print(\"el tipo de z es: \" + str(type(z)))"
      ],
      "execution_count": null,
      "outputs": [
        {
          "output_type": "stream",
          "text": [
            "el tipo de x es: <class 'float'>\n",
            "el tipo de y es: <class 'int'>\n",
            "el tipo de z es: <class 'str'>\n"
          ],
          "name": "stdout"
        }
      ]
    },
    {
      "cell_type": "code",
      "metadata": {
        "id": "oOZtMiQK1kjy",
        "colab": {
          "base_uri": "https://localhost:8080/"
        },
        "outputId": "390b4435-5385-40f6-b9a3-a26093b8c98b"
      },
      "source": [
        "y=float(y)\n",
        "print(\"el tipo de y es: \" + str(type(y)))"
      ],
      "execution_count": null,
      "outputs": [
        {
          "output_type": "stream",
          "text": [
            "el tipo de y es: <class 'float'>\n"
          ],
          "name": "stdout"
        }
      ]
    },
    {
      "cell_type": "code",
      "metadata": {
        "id": "dg1g7kGv1kjy",
        "colab": {
          "base_uri": "https://localhost:8080/"
        },
        "outputId": "80593594-91d6-46ec-b31b-17039bd33645"
      },
      "source": [
        "y"
      ],
      "execution_count": null,
      "outputs": [
        {
          "output_type": "execute_result",
          "data": {
            "text/plain": [
              "5.0"
            ]
          },
          "metadata": {
            "tags": []
          },
          "execution_count": 63
        }
      ]
    },
    {
      "cell_type": "code",
      "metadata": {
        "id": "EC3q3uGZ1kjy",
        "colab": {
          "base_uri": "https://localhost:8080/"
        },
        "outputId": "e4894a5d-5f47-40ca-e614-b307e22df962"
      },
      "source": [
        "y=5\n",
        "print(\"el tipo de y es: \" + str(type(y)))"
      ],
      "execution_count": null,
      "outputs": [
        {
          "output_type": "stream",
          "text": [
            "el tipo de y es: <class 'int'>\n"
          ],
          "name": "stdout"
        }
      ]
    },
    {
      "cell_type": "markdown",
      "metadata": {
        "id": "cfUzHXX21kjz"
      },
      "source": [
        "Si asignamos un nuevo valor a una variable, su tipo puede cambiar."
      ]
    },
    {
      "cell_type": "code",
      "metadata": {
        "id": "Ju6j7RHd1kjz"
      },
      "source": [
        "x = 1"
      ],
      "execution_count": null,
      "outputs": []
    },
    {
      "cell_type": "code",
      "metadata": {
        "id": "HXAgUXpL1kjz",
        "colab": {
          "base_uri": "https://localhost:8080/"
        },
        "outputId": "7f6d6af3-00d9-4cca-ca21-3021012b67ed"
      },
      "source": [
        "type(x)"
      ],
      "execution_count": null,
      "outputs": [
        {
          "output_type": "execute_result",
          "data": {
            "text/plain": [
              "int"
            ]
          },
          "metadata": {
            "tags": []
          },
          "execution_count": 66
        }
      ]
    },
    {
      "cell_type": "markdown",
      "metadata": {
        "id": "IL8lG3Wz1kjz"
      },
      "source": [
        "Si tratamos de usar una variable que no ha sido definida obtenemo un mensaje de error (`NameError`):"
      ]
    },
    {
      "cell_type": "code",
      "metadata": {
        "id": "S6re9TTT1kj0",
        "colab": {
          "base_uri": "https://localhost:8080/"
        },
        "outputId": "439dd9b0-f4f9-4857-d4bd-8fadfcb21d47"
      },
      "source": [
        "print(y)"
      ],
      "execution_count": null,
      "outputs": [
        {
          "output_type": "stream",
          "text": [
            "5\n"
          ],
          "name": "stdout"
        }
      ]
    },
    {
      "cell_type": "markdown",
      "metadata": {
        "id": "yVkR94rY1kj0"
      },
      "source": [
        "### Tipos Fundamentales"
      ]
    },
    {
      "cell_type": "code",
      "metadata": {
        "id": "uTDszJAB1kj0",
        "colab": {
          "base_uri": "https://localhost:8080/"
        },
        "outputId": "f74b0882-772a-4a2c-849f-a65a05f969c9"
      },
      "source": [
        "# enteros\n",
        "x = 1\n",
        "type(x)"
      ],
      "execution_count": null,
      "outputs": [
        {
          "output_type": "execute_result",
          "data": {
            "text/plain": [
              "int"
            ]
          },
          "metadata": {
            "tags": []
          },
          "execution_count": 68
        }
      ]
    },
    {
      "cell_type": "code",
      "metadata": {
        "id": "pJPVr8_A1kj2",
        "colab": {
          "base_uri": "https://localhost:8080/"
        },
        "outputId": "0a3ec806-9f41-43e4-dd17-b713d38dc881"
      },
      "source": [
        "# flotantes\n",
        "x = 1.0\n",
        "type(x)"
      ],
      "execution_count": null,
      "outputs": [
        {
          "output_type": "execute_result",
          "data": {
            "text/plain": [
              "float"
            ]
          },
          "metadata": {
            "tags": []
          },
          "execution_count": 69
        }
      ]
    },
    {
      "cell_type": "code",
      "metadata": {
        "id": "tiH3DrVF1kj3",
        "colab": {
          "base_uri": "https://localhost:8080/"
        },
        "outputId": "7f3f6ace-c8b8-49c6-a946-81ff5e19932b"
      },
      "source": [
        "# booleanos\n",
        "b1 = True\n",
        "b2 = False\n",
        "\n",
        "type(b1)"
      ],
      "execution_count": null,
      "outputs": [
        {
          "output_type": "execute_result",
          "data": {
            "text/plain": [
              "bool"
            ]
          },
          "metadata": {
            "tags": []
          },
          "execution_count": 70
        }
      ]
    },
    {
      "cell_type": "code",
      "metadata": {
        "id": "_WEs0kjO1kj3",
        "colab": {
          "base_uri": "https://localhost:8080/"
        },
        "outputId": "5b4c0d91-af09-4de2-8865-e403eaf7093d"
      },
      "source": [
        "# números complejos: note que se usa `j` para especificar la parte imaginaria\n",
        "x = 1.0 - 1.0j\n",
        "type(x)"
      ],
      "execution_count": null,
      "outputs": [
        {
          "output_type": "execute_result",
          "data": {
            "text/plain": [
              "complex"
            ]
          },
          "metadata": {
            "tags": []
          },
          "execution_count": 71
        }
      ]
    },
    {
      "cell_type": "code",
      "metadata": {
        "id": "_bWcfCcW1kj3",
        "colab": {
          "base_uri": "https://localhost:8080/"
        },
        "outputId": "a4136f56-651b-426b-8fdf-5305b90c9227"
      },
      "source": [
        "print(x)"
      ],
      "execution_count": null,
      "outputs": [
        {
          "output_type": "stream",
          "text": [
            "(1-1j)\n"
          ],
          "name": "stdout"
        }
      ]
    },
    {
      "cell_type": "code",
      "metadata": {
        "scrolled": true,
        "id": "21iNtXhc1kj4",
        "colab": {
          "base_uri": "https://localhost:8080/"
        },
        "outputId": "1d61c289-8905-49c0-d13c-dd4d437a7419"
      },
      "source": [
        "print(x.real, x.imag)"
      ],
      "execution_count": null,
      "outputs": [
        {
          "output_type": "stream",
          "text": [
            "1.0 -1.0\n"
          ],
          "name": "stdout"
        }
      ]
    },
    {
      "cell_type": "code",
      "metadata": {
        "id": "yVXSLesm1kj4",
        "colab": {
          "base_uri": "https://localhost:8080/"
        },
        "outputId": "94fd1769-8003-4b62-ef71-ba5b44316273"
      },
      "source": [
        "x = 1.0\n",
        "\n",
        "# verifica si la variable x es flotante\n",
        "type(x) is float"
      ],
      "execution_count": null,
      "outputs": [
        {
          "output_type": "execute_result",
          "data": {
            "text/plain": [
              "True"
            ]
          },
          "metadata": {
            "tags": []
          },
          "execution_count": 74
        }
      ]
    },
    {
      "cell_type": "code",
      "metadata": {
        "id": "UOMAWLtC1kj4",
        "colab": {
          "base_uri": "https://localhost:8080/"
        },
        "outputId": "4e3e5243-da36-418e-96dc-a76889157453"
      },
      "source": [
        "# verifica si la variable x es un entero\n",
        "type(x) is int"
      ],
      "execution_count": null,
      "outputs": [
        {
          "output_type": "execute_result",
          "data": {
            "text/plain": [
              "False"
            ]
          },
          "metadata": {
            "tags": []
          },
          "execution_count": 75
        }
      ]
    },
    {
      "cell_type": "markdown",
      "metadata": {
        "id": "2-Xdiony1kj4"
      },
      "source": [
        "Podemos también usar el método `isinstance` para testear tipos de variables:"
      ]
    },
    {
      "cell_type": "code",
      "metadata": {
        "id": "vx63Gl_o1kj5",
        "colab": {
          "base_uri": "https://localhost:8080/"
        },
        "outputId": "125414bd-e633-4b96-e182-182a6e3f1fc3"
      },
      "source": [
        "isinstance(x, int)"
      ],
      "execution_count": null,
      "outputs": [
        {
          "output_type": "execute_result",
          "data": {
            "text/plain": [
              "False"
            ]
          },
          "metadata": {
            "tags": []
          },
          "execution_count": 76
        }
      ]
    },
    {
      "cell_type": "code",
      "metadata": {
        "id": "usPUrFOO1kj5"
      },
      "source": [
        "isinstance?"
      ],
      "execution_count": null,
      "outputs": []
    },
    {
      "cell_type": "markdown",
      "metadata": {
        "id": "7bgmyOPD1kj5"
      },
      "source": [
        "### Conversión de Tipo"
      ]
    },
    {
      "cell_type": "code",
      "metadata": {
        "id": "sIXwfNHC1kj5",
        "colab": {
          "base_uri": "https://localhost:8080/"
        },
        "outputId": "68bd221a-d526-427a-9ad3-5c89af09c972"
      },
      "source": [
        "x = 1.5\n",
        "\n",
        "print(x, type(x))"
      ],
      "execution_count": null,
      "outputs": [
        {
          "output_type": "stream",
          "text": [
            "1.5 <class 'float'>\n"
          ],
          "name": "stdout"
        }
      ]
    },
    {
      "cell_type": "code",
      "metadata": {
        "id": "GWSAmaZY1kj5",
        "colab": {
          "base_uri": "https://localhost:8080/"
        },
        "outputId": "8f0b8076-e86c-4890-9725-7e130b0a2a0b"
      },
      "source": [
        "x = int(x)\n",
        "\n",
        "print(x, type(x))"
      ],
      "execution_count": null,
      "outputs": [
        {
          "output_type": "stream",
          "text": [
            "1 <class 'int'>\n"
          ],
          "name": "stdout"
        }
      ]
    },
    {
      "cell_type": "code",
      "metadata": {
        "id": "uEQkUMgg1kj6",
        "colab": {
          "base_uri": "https://localhost:8080/"
        },
        "outputId": "c34298b8-a410-4c4a-eade-eacaf3c38cc5"
      },
      "source": [
        "z = complex(x)\n",
        "\n",
        "print(z, type(z))"
      ],
      "execution_count": null,
      "outputs": [
        {
          "output_type": "stream",
          "text": [
            "(1+0j) <class 'complex'>\n"
          ],
          "name": "stdout"
        }
      ]
    },
    {
      "cell_type": "code",
      "metadata": {
        "id": "G3LDUu241kj6"
      },
      "source": [
        "#x = float(z)"
      ],
      "execution_count": null,
      "outputs": []
    },
    {
      "cell_type": "markdown",
      "metadata": {
        "id": "kUytOUMF1kj6"
      },
      "source": [
        "Un número complejo no puede ser convertido a un número flotante o a un entero. Necesitamos usar `z.real`, o bien `z.imag`, para extraer la parte que deseamos del número complejo z:"
      ]
    },
    {
      "cell_type": "code",
      "metadata": {
        "id": "6-xYJFip1kj6",
        "colab": {
          "base_uri": "https://localhost:8080/"
        },
        "outputId": "77d1f845-1d4c-4da5-856d-84c90da2095d"
      },
      "source": [
        "y = bool(z.real)\n",
        "\n",
        "print(z.real, \" -> \", y, type(y))\n",
        "\n",
        "y = bool(z.imag)\n",
        "\n",
        "print(z.imag, \" -> \", y, type(y))"
      ],
      "execution_count": null,
      "outputs": [
        {
          "output_type": "stream",
          "text": [
            "1.0  ->  True <class 'bool'>\n",
            "0.0  ->  False <class 'bool'>\n"
          ],
          "name": "stdout"
        }
      ]
    },
    {
      "cell_type": "markdown",
      "metadata": {
        "id": "WPFr3i5l1kj7"
      },
      "source": [
        "## Operadores y comparaciones\n",
        "\n",
        "La mayoría de los operadores y las comparaciones en Python funcionan como se esperaría:\n",
        "\n",
        "* Operadores aritméticos `+`, `-`, `*`, `/`, `//` (división entera), '**' potencia\n"
      ]
    },
    {
      "cell_type": "code",
      "metadata": {
        "id": "rLLdLhuI1kj7",
        "colab": {
          "base_uri": "https://localhost:8080/"
        },
        "outputId": "f1ec5603-e016-4ca8-a1d4-d31a31d2376f"
      },
      "source": [
        "2+4*6-3/3"
      ],
      "execution_count": null,
      "outputs": [
        {
          "output_type": "execute_result",
          "data": {
            "text/plain": [
              "25.0"
            ]
          },
          "metadata": {
            "tags": []
          },
          "execution_count": 56
        }
      ]
    },
    {
      "cell_type": "code",
      "metadata": {
        "id": "tedrB3zX1kj7",
        "colab": {
          "base_uri": "https://localhost:8080/"
        },
        "outputId": "e0ed1326-4708-4b6e-a723-6223c3fe4210"
      },
      "source": [
        "1 + 2, 1 - 2, 1 * 2, 1 / 2"
      ],
      "execution_count": null,
      "outputs": [
        {
          "output_type": "execute_result",
          "data": {
            "text/plain": [
              "(3, -1, 2, 0.5)"
            ]
          },
          "metadata": {
            "tags": []
          },
          "execution_count": 57
        }
      ]
    },
    {
      "cell_type": "code",
      "metadata": {
        "id": "V2uXBvo81kj8",
        "outputId": "defb5f63-b0e1-490a-a77f-65430a08184b"
      },
      "source": [
        "1.0 + 2.0, 1.0 - 2.0, 1.0 * 2.0, 1.0 / 2.0"
      ],
      "execution_count": null,
      "outputs": [
        {
          "output_type": "execute_result",
          "data": {
            "text/plain": [
              "(3.0, -1.0, 2.0, 0.5)"
            ]
          },
          "metadata": {
            "tags": []
          },
          "execution_count": 21
        }
      ]
    },
    {
      "cell_type": "code",
      "metadata": {
        "id": "NAFsO6PE1kj8",
        "outputId": "f5026e94-af1b-4587-97d7-c746e7da4fbd"
      },
      "source": [
        "# División entera de dos númenos flotantes\n",
        "3.0 // 2.0"
      ],
      "execution_count": null,
      "outputs": [
        {
          "output_type": "execute_result",
          "data": {
            "text/plain": [
              "1.0"
            ]
          },
          "metadata": {
            "tags": []
          },
          "execution_count": 22
        }
      ]
    },
    {
      "cell_type": "code",
      "metadata": {
        "id": "-aq2O70M1kj8",
        "outputId": "ff9ead73-15fe-423d-d248-f0f8c545f885"
      },
      "source": [
        "# Atención! El operador de potencia en Python no es ^, sino **\n",
        "2**2"
      ],
      "execution_count": null,
      "outputs": [
        {
          "output_type": "execute_result",
          "data": {
            "text/plain": [
              "4"
            ]
          },
          "metadata": {
            "tags": []
          },
          "execution_count": 23
        }
      ]
    },
    {
      "cell_type": "code",
      "metadata": {
        "id": "SCQJEQek1kj9",
        "outputId": "0cdc700f-9157-4309-a7f1-2fabf9ac878f"
      },
      "source": [
        "3%2"
      ],
      "execution_count": null,
      "outputs": [
        {
          "output_type": "execute_result",
          "data": {
            "text/plain": [
              "1"
            ]
          },
          "metadata": {
            "tags": []
          },
          "execution_count": 38
        }
      ]
    },
    {
      "cell_type": "code",
      "metadata": {
        "id": "Cg0bGtmP1kj9"
      },
      "source": [
        "3//2=1   2*1=2  3-2=1"
      ],
      "execution_count": null,
      "outputs": []
    },
    {
      "cell_type": "markdown",
      "metadata": {
        "id": "LRUcn77T1kj9"
      },
      "source": [
        "* Los operadores booleanos se escriben como palabras: `and`, `not`, `or`. "
      ]
    },
    {
      "cell_type": "code",
      "metadata": {
        "id": "JAb_3wIF1kj9",
        "outputId": "6513d180-decc-480e-c6e5-e26c99560757"
      },
      "source": [
        "True and False"
      ],
      "execution_count": null,
      "outputs": [
        {
          "output_type": "execute_result",
          "data": {
            "text/plain": [
              "False"
            ]
          },
          "metadata": {
            "tags": []
          },
          "execution_count": 24
        }
      ]
    },
    {
      "cell_type": "code",
      "metadata": {
        "id": "Ulv_-IcH1kj-",
        "outputId": "b3350baa-c96b-481a-a25c-a9a7ecaee71d"
      },
      "source": [
        "not False"
      ],
      "execution_count": null,
      "outputs": [
        {
          "output_type": "execute_result",
          "data": {
            "text/plain": [
              "True"
            ]
          },
          "metadata": {
            "tags": []
          },
          "execution_count": 25
        }
      ]
    },
    {
      "cell_type": "code",
      "metadata": {
        "id": "D4dS2iBP1kj-",
        "outputId": "ddf0b814-e742-4938-aef6-18c96c897bbb"
      },
      "source": [
        "True or False"
      ],
      "execution_count": null,
      "outputs": [
        {
          "output_type": "execute_result",
          "data": {
            "text/plain": [
              "True"
            ]
          },
          "metadata": {
            "tags": []
          },
          "execution_count": 26
        }
      ]
    },
    {
      "cell_type": "markdown",
      "metadata": {
        "id": "3iSzdGGl1kj-"
      },
      "source": [
        "* Operadores de comparación `>`, `<`, `>=` (mayor o igual), `<=` (menor o igual), `==` igualdad, `es` idéntico."
      ]
    },
    {
      "cell_type": "code",
      "metadata": {
        "id": "NDRb1IBU1kj-",
        "outputId": "6876459c-8405-4da4-8898-ce7974ac80f7"
      },
      "source": [
        "2 > 1, 2 < 1"
      ],
      "execution_count": null,
      "outputs": [
        {
          "output_type": "execute_result",
          "data": {
            "text/plain": [
              "(True, False)"
            ]
          },
          "metadata": {
            "tags": []
          },
          "execution_count": 27
        }
      ]
    },
    {
      "cell_type": "code",
      "metadata": {
        "id": "jXfJfvOI1kj_",
        "outputId": "38e690ac-b294-4303-e1da-5b6dd4852e5d"
      },
      "source": [
        "2>3"
      ],
      "execution_count": null,
      "outputs": [
        {
          "output_type": "execute_result",
          "data": {
            "text/plain": [
              "False"
            ]
          },
          "metadata": {
            "tags": []
          },
          "execution_count": 40
        }
      ]
    },
    {
      "cell_type": "code",
      "metadata": {
        "id": "S1XIlJm91kj_",
        "outputId": "4c6b390a-e96b-469b-ab5e-362c5d6e4efb"
      },
      "source": [
        "2 > 2, 2 < 2"
      ],
      "execution_count": null,
      "outputs": [
        {
          "output_type": "execute_result",
          "data": {
            "text/plain": [
              "(False, False)"
            ]
          },
          "metadata": {
            "tags": []
          },
          "execution_count": 28
        }
      ]
    },
    {
      "cell_type": "code",
      "metadata": {
        "id": "vNdoJhnD1kj_",
        "outputId": "befbc4a7-12d2-4753-ac82-89c4e9dc5023"
      },
      "source": [
        "2 >= 2, 2 <= 2"
      ],
      "execution_count": null,
      "outputs": [
        {
          "output_type": "execute_result",
          "data": {
            "text/plain": [
              "(True, True)"
            ]
          },
          "metadata": {
            "tags": []
          },
          "execution_count": 29
        }
      ]
    },
    {
      "cell_type": "code",
      "metadata": {
        "id": "mODDfg2B1kkA",
        "outputId": "6a7654fd-2d59-4890-990b-ffc8aa7ed1c8"
      },
      "source": [
        "# igualdad\n",
        "[1,2] == [1,2]"
      ],
      "execution_count": null,
      "outputs": [
        {
          "output_type": "execute_result",
          "data": {
            "text/plain": [
              "True"
            ]
          },
          "metadata": {
            "tags": []
          },
          "execution_count": 30
        }
      ]
    },
    {
      "cell_type": "code",
      "metadata": {
        "id": "XcorNJzk1kkA"
      },
      "source": [
        "a=2\n",
        "b=3"
      ],
      "execution_count": null,
      "outputs": []
    },
    {
      "cell_type": "code",
      "metadata": {
        "id": "uMikEMef1kkA"
      },
      "source": [
        "#asignación\n",
        "a=b"
      ],
      "execution_count": null,
      "outputs": []
    },
    {
      "cell_type": "code",
      "metadata": {
        "id": "7-wxmZzv1kkA",
        "outputId": "4fa1fccd-0ff5-467a-92e4-41a8011b9084"
      },
      "source": [
        "#pregunta\n",
        "a==b"
      ],
      "execution_count": null,
      "outputs": [
        {
          "output_type": "execute_result",
          "data": {
            "text/plain": [
              "True"
            ]
          },
          "metadata": {
            "tags": []
          },
          "execution_count": 44
        }
      ]
    },
    {
      "cell_type": "code",
      "metadata": {
        "id": "VGR_GP131kkA",
        "outputId": "b1c6d2ac-fe8b-4460-9049-4a06eba92d5a"
      },
      "source": [
        "print(a)\n",
        "print(b)"
      ],
      "execution_count": null,
      "outputs": [
        {
          "output_type": "stream",
          "text": [
            "3\n",
            "3\n"
          ],
          "name": "stdout"
        }
      ]
    },
    {
      "cell_type": "code",
      "metadata": {
        "id": "urvlfURc1kkB",
        "outputId": "c7b343a5-7473-4d09-c19b-18867b861038"
      },
      "source": [
        "a is b"
      ],
      "execution_count": null,
      "outputs": [
        {
          "output_type": "execute_result",
          "data": {
            "text/plain": [
              "True"
            ]
          },
          "metadata": {
            "tags": []
          },
          "execution_count": 47
        }
      ]
    },
    {
      "cell_type": "code",
      "metadata": {
        "id": "nQ98_ouA1kkB"
      },
      "source": [
        ""
      ],
      "execution_count": null,
      "outputs": []
    },
    {
      "cell_type": "code",
      "metadata": {
        "id": "JrpVL93-1kkB",
        "outputId": "9355b7dc-f7c4-462b-cb77-d5b6ca662272"
      },
      "source": [
        "# ¿objetos idénticos?\n",
        "l1 = l2 = [1,2]\n",
        "\n",
        "l1 is l2"
      ],
      "execution_count": null,
      "outputs": [
        {
          "output_type": "execute_result",
          "data": {
            "text/plain": [
              "True"
            ]
          },
          "metadata": {
            "tags": []
          },
          "execution_count": 46
        }
      ]
    },
    {
      "cell_type": "markdown",
      "metadata": {
        "id": "bnErLGFl1kkB"
      },
      "source": [
        "## Tipos compuestos: Cadenas\n",
        "\n",
        "### Cadenas\n",
        "\n",
        "Las cadenas son el tipo de variables que es usado para almacenar mensajes de texto. "
      ]
    },
    {
      "cell_type": "code",
      "metadata": {
        "id": "tqZN5KlX1kkC",
        "outputId": "69e1f36b-0dbf-48ae-f6fd-f1b5ca89561c"
      },
      "source": [
        "s = \"Hola mundo\"\n",
        "type(s)"
      ],
      "execution_count": null,
      "outputs": [
        {
          "output_type": "execute_result",
          "data": {
            "text/plain": [
              "str"
            ]
          },
          "metadata": {
            "tags": []
          },
          "execution_count": 48
        }
      ]
    },
    {
      "cell_type": "code",
      "metadata": {
        "id": "3GOLvAHO1kkC"
      },
      "source": [
        "a=2"
      ],
      "execution_count": null,
      "outputs": []
    },
    {
      "cell_type": "code",
      "metadata": {
        "id": "cJNKHn-Z1kkC"
      },
      "source": [
        "b=2.0"
      ],
      "execution_count": null,
      "outputs": []
    },
    {
      "cell_type": "code",
      "metadata": {
        "id": "rmPzk93C1kkC",
        "outputId": "8a1c5325-69fc-4daf-9bd1-e0b3484f1f95"
      },
      "source": [
        "a is b"
      ],
      "execution_count": null,
      "outputs": [
        {
          "output_type": "execute_result",
          "data": {
            "text/plain": [
              "False"
            ]
          },
          "metadata": {
            "tags": []
          },
          "execution_count": 50
        }
      ]
    },
    {
      "cell_type": "code",
      "metadata": {
        "id": "I4OgYBJx1kkC",
        "outputId": "2e849a39-c477-47bf-a3aa-2e929cb3418f"
      },
      "source": [
        "# longitud de la cadena: el número de caracteres que contiene\n",
        "len(s)"
      ],
      "execution_count": null,
      "outputs": [
        {
          "output_type": "execute_result",
          "data": {
            "text/plain": [
              "10"
            ]
          },
          "metadata": {
            "tags": []
          },
          "execution_count": 33
        }
      ]
    },
    {
      "cell_type": "code",
      "metadata": {
        "id": "BcqimZTC1kkD",
        "outputId": "09c80b4e-0d9c-47e9-90ef-1d503dc44a43"
      },
      "source": [
        "# reemplaza una subcadena de una cadena por cadena\n",
        "s2 = s.replace(\"mundo\", \"universo\")\n",
        "print(s2)"
      ],
      "execution_count": null,
      "outputs": [
        {
          "output_type": "stream",
          "text": [
            "Hola universo\n"
          ],
          "name": "stdout"
        }
      ]
    },
    {
      "cell_type": "markdown",
      "metadata": {
        "id": "X0_FTH-D1kkD"
      },
      "source": [
        "Podemos aislar un carácter en una cadena usando `[]`:"
      ]
    },
    {
      "cell_type": "code",
      "metadata": {
        "id": "q5MC9bSW1kkD",
        "outputId": "63190f5a-3575-40bb-a198-aa95b35d21a1"
      },
      "source": [
        "s[-10:-1]"
      ],
      "execution_count": null,
      "outputs": [
        {
          "output_type": "execute_result",
          "data": {
            "text/plain": [
              "'Hola mund'"
            ]
          },
          "metadata": {
            "tags": []
          },
          "execution_count": 60
        }
      ]
    },
    {
      "cell_type": "markdown",
      "metadata": {
        "id": "tlGpVRg_1kkD"
      },
      "source": [
        "\n",
        "Podemos extraer una parte de una cadena usando la sintaxis `[desde:hasta]`, que extrae caracteres entre los índices  `desde` y `hasta` **sin incluir el elemento con índice `hasta'**:"
      ]
    },
    {
      "cell_type": "code",
      "metadata": {
        "id": "1G79t0TQ1kkE",
        "outputId": "76fd342e-8beb-47d0-f36d-1f9c80f6feac"
      },
      "source": [
        "s[0:5]"
      ],
      "execution_count": null,
      "outputs": [
        {
          "output_type": "execute_result",
          "data": {
            "text/plain": [
              "'Hola '"
            ]
          },
          "metadata": {
            "tags": []
          },
          "execution_count": 36
        }
      ]
    },
    {
      "cell_type": "markdown",
      "metadata": {
        "id": "lVr1pnod1kkE"
      },
      "source": [
        "Si omitimos `desde` o bien `hasta` de `[desde:hasta]`, por defecto se entiende que se refiere al comienzo y/o al fin de la cadena, respectivamente:"
      ]
    },
    {
      "cell_type": "code",
      "metadata": {
        "id": "VHQKLOB31kkE",
        "outputId": "40582eac-cb41-41e0-df40-f82426fe9af6"
      },
      "source": [
        "s[:5]"
      ],
      "execution_count": null,
      "outputs": [
        {
          "output_type": "execute_result",
          "data": {
            "text/plain": [
              "'Hola '"
            ]
          },
          "metadata": {
            "tags": []
          },
          "execution_count": 37
        }
      ]
    },
    {
      "cell_type": "code",
      "metadata": {
        "id": "sLd3bRxf1kkF",
        "outputId": "7518ce53-c1dc-4742-de4f-6916ed72dd1d"
      },
      "source": [
        "s[6:]"
      ],
      "execution_count": null,
      "outputs": [
        {
          "output_type": "execute_result",
          "data": {
            "text/plain": [
              "'undo'"
            ]
          },
          "metadata": {
            "tags": []
          },
          "execution_count": 38
        }
      ]
    },
    {
      "cell_type": "code",
      "metadata": {
        "id": "Dpd6ikA91kkF",
        "outputId": "fff4e2d0-e1e5-41ae-b1a9-17cfd73ec7dd"
      },
      "source": [
        "s[:]"
      ],
      "execution_count": null,
      "outputs": [
        {
          "output_type": "execute_result",
          "data": {
            "text/plain": [
              "'Hola mundo'"
            ]
          },
          "metadata": {
            "tags": []
          },
          "execution_count": 39
        }
      ]
    },
    {
      "cell_type": "markdown",
      "metadata": {
        "id": "SNnmBpYa1kkG"
      },
      "source": [
        "Podemos también definir el tamaño del paso usando la sintaxis `[desde:hasta:paso]` (el valor por defecto de `paso` es 1, como ya vimos):"
      ]
    },
    {
      "cell_type": "code",
      "metadata": {
        "id": "qoDN93ke1kkG",
        "outputId": "f9b6e0da-ff57-4a63-deef-8e82c59524a1"
      },
      "source": [
        "s[::1]"
      ],
      "execution_count": null,
      "outputs": [
        {
          "output_type": "execute_result",
          "data": {
            "text/plain": [
              "'Hola mundo'"
            ]
          },
          "metadata": {
            "tags": []
          },
          "execution_count": 40
        }
      ]
    },
    {
      "cell_type": "code",
      "metadata": {
        "id": "e8kLyHBB1kkG",
        "outputId": "59aea44b-07a9-48b4-afcd-7366e40ef615"
      },
      "source": [
        "s[::2]"
      ],
      "execution_count": null,
      "outputs": [
        {
          "output_type": "execute_result",
          "data": {
            "text/plain": [
              "'Hl ud'"
            ]
          },
          "metadata": {
            "tags": []
          },
          "execution_count": 41
        }
      ]
    },
    {
      "cell_type": "markdown",
      "metadata": {
        "id": "7PneEnRP1kkG"
      },
      "source": [
        "Esta técnica es llamada *slicing* (\"rebanado\"). Puede leer más sobre la sintaxis [aquí](http://pyspanishdoc.sourceforge.net/lib/built-in-funcs.html) y [aquí](http://docs.python.org/release/2.7.3/library/functions.html?highlight=slice#slice) (en inglés)."
      ]
    },
    {
      "cell_type": "markdown",
      "metadata": {
        "id": "dlU-JZ8a1kkG"
      },
      "source": [
        "Python tiene un rico conjunto de funciones para procesar texto. Ver por ejemplo la documentación en [este link](http://docs.python.org/2/library/string.html) (en inglés) para más información."
      ]
    },
    {
      "cell_type": "markdown",
      "metadata": {
        "id": "kwjiRERG1kkH"
      },
      "source": [
        "#### Ejemplos de formateo de cadenas"
      ]
    },
    {
      "cell_type": "code",
      "metadata": {
        "id": "zAd0Tt4L1kkH",
        "outputId": "48541312-6a05-4c25-bda0-d714e65cb26e"
      },
      "source": [
        "print(\"uno\", \"dos\", \"tres\",sep=\"-\",end=\"*\")  # El comando print puede desplegar varias cadenas"
      ],
      "execution_count": null,
      "outputs": [
        {
          "output_type": "stream",
          "text": [
            "uno-dos-tres*"
          ],
          "name": "stdout"
        }
      ]
    },
    {
      "cell_type": "code",
      "metadata": {
        "id": "j6UpfmHD1kkH",
        "outputId": "02c19cdd-d9cc-4fe7-c165-c07ee0342d46"
      },
      "source": [
        "print(\"uno\", 1.0, False, -1j)  # El comando print convierte todos los argumentos a cadenas"
      ],
      "execution_count": null,
      "outputs": [
        {
          "output_type": "stream",
          "text": [
            "uno 1.0 False (-0-1j)\n"
          ],
          "name": "stdout"
        }
      ]
    },
    {
      "cell_type": "code",
      "metadata": {
        "id": "Lpkr5mhQ1kkH",
        "outputId": "f4a0326e-b04e-4f9a-940b-3962f0272159"
      },
      "source": [
        "print(\"uno\" + \"dos\" + \"tres\") # cadenas \"sumadas\" con + son contatenadas sin espacio entre ellas"
      ],
      "execution_count": null,
      "outputs": [
        {
          "output_type": "stream",
          "text": [
            "unodostres\n"
          ],
          "name": "stdout"
        }
      ]
    },
    {
      "cell_type": "code",
      "metadata": {
        "id": "SF1W1-qX1kkH",
        "outputId": "20894c78-cd75-4423-bd2b-2a45dbf06c2b"
      },
      "source": [
        "print(\"valor = \"+str(1.0)) # podemos transformar un float a string y concatenarlos en la salida"
      ],
      "execution_count": null,
      "outputs": [
        {
          "output_type": "stream",
          "text": [
            "valor = 1.0\n"
          ],
          "name": "stdout"
        }
      ]
    },
    {
      "cell_type": "code",
      "metadata": {
        "id": "yPNrVRrY1kkI",
        "outputId": "caa1ef2d-6541-40f5-986f-47332167d41f"
      },
      "source": [
        "print(\"valor = %.5f\" % 1.0) # podemos usar formateo de cadenas en el estilo del lenguaje C"
      ],
      "execution_count": null,
      "outputs": [
        {
          "output_type": "stream",
          "text": [
            "valor = 1.00000\n"
          ],
          "name": "stdout"
        }
      ]
    },
    {
      "cell_type": "code",
      "metadata": {
        "id": "xMKcsmFl1kkI",
        "outputId": "0b07ed1e-366d-47e8-db62-5fb78e8f5e8b"
      },
      "source": [
        "# este formateo crea una cadena\n",
        "s2 = \"valor1 = %.2f. valor2 = %d\" % (3.1415, 1.5)\n",
        "\n",
        "print(s2)"
      ],
      "execution_count": null,
      "outputs": [
        {
          "output_type": "stream",
          "text": [
            "valor1 = 3.14. valor2 = 1\n"
          ],
          "name": "stdout"
        }
      ]
    },
    {
      "cell_type": "code",
      "metadata": {
        "id": "ycnMCJKb1kkI",
        "outputId": "13c3cf0b-953f-459f-ac9f-a8f2ffa45a0d"
      },
      "source": [
        "# forma alternativa, más intuitiva para formatear una cadena\n",
        "s3 = 'valor1 = {0}, valor2 = {1}'.format(3.1415, 1.5)\n",
        "\n",
        "print(s3)"
      ],
      "execution_count": null,
      "outputs": [
        {
          "output_type": "stream",
          "text": [
            "valor1 = 3.1415, valor2 = 1.5\n"
          ],
          "name": "stdout"
        }
      ]
    }
  ]
}